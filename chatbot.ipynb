{
  "nbformat": 4,
  "nbformat_minor": 0,
  "metadata": {
    "colab": {
      "provenance": []
    },
    "kernelspec": {
      "name": "python3",
      "display_name": "Python 3"
    },
    "language_info": {
      "name": "python"
    }
  },
  "cells": [
    {
      "cell_type": "code",
      "execution_count": 1,
      "metadata": {
        "colab": {
          "base_uri": "https://localhost:8080/"
        },
        "id": "oAecXAnKkNBg",
        "outputId": "c98592cd-17c0-48f5-a0a9-a94b1e34c005"
      },
      "outputs": [
        {
          "output_type": "stream",
          "name": "stdout",
          "text": [
            "Chatbot: Hi! How can I assist you today?\n",
            "You: hello\n",
            "Chatbot: Hey!\n",
            "You: how are you\n",
            "Chatbot: I don't have feelings, but I'm ready to assist.\n",
            "You: kill\n",
            "Chatbot: Sorry, I don't have an answer for that.\n",
            "You: bye\n",
            "Chatbot: See you later!\n",
            "You: exit\n",
            "Chatbot: Goodbye!\n"
          ]
        }
      ],
      "source": [
        "import random\n",
        "\n",
        "\n",
        "responses = {\n",
        "    \"hello\": [\"Hi there!\", \"Hello!\", \"Hey!\"],\n",
        "    \"how are you\": [\"I'm just a computer program, but I'm here to help!\", \"I'm good, thanks!\", \"I don't have feelings, but I'm ready to assist.\"],\n",
        "    \"what's your name\": [\"I'm a chatbot.\", \"You can call me Chatbot.\", \"I don't have a name, but you can ask me anything.\"],\n",
        "    \"bye\": [\"Goodbye!\", \"See you later!\", \"Have a great day!\"],\n",
        "    \"default\": [\"I'm not sure I understand.\", \"Could you please rephrase that?\", \"Sorry, I don't have an answer for that.\"]\n",
        "}\n",
        "\n",
        "\n",
        "def chatbot_response(user_input):\n",
        "    user_input = user_input.lower()\n",
        "\n",
        "\n",
        "    for query, response_list in responses.items():\n",
        "        if query in user_input:\n",
        "            return random.choice(response_list)\n",
        "\n",
        "\n",
        "    return random.choice(responses[\"default\"])\n",
        "\n",
        "\n",
        "print(\"Chatbot: Hi! How can I assist you today?\")\n",
        "while True:\n",
        "    user_input = input(\"You: \")\n",
        "    if user_input.lower() == \"exit\":\n",
        "        print(\"Chatbot: Goodbye!\")\n",
        "        break\n",
        "    response = chatbot_response(user_input)\n",
        "    print(\"Chatbot:\", response)"
      ]
    }
  ]
}