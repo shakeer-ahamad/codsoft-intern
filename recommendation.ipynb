{
  "nbformat": 4,
  "nbformat_minor": 0,
  "metadata": {
    "colab": {
      "provenance": []
    },
    "kernelspec": {
      "name": "python3",
      "display_name": "Python 3"
    },
    "language_info": {
      "name": "python"
    }
  },
  "cells": [
    {
      "cell_type": "code",
      "execution_count": 2,
      "metadata": {
        "colab": {
          "base_uri": "https://localhost:8080/"
        },
        "id": "tN5PK8DnlKj3",
        "outputId": "6e4777e3-e1ec-4397-8033-8b7dd2f3bd24"
      },
      "outputs": [
        {
          "output_type": "stream",
          "name": "stdout",
          "text": [
            "Enter your preference (e.g., action, comedy, drama, sci-fi): action\n",
            "Top 3 recommendations:\n",
            "1.jailer, 2.kgf 3.jawan\n"
          ]
        }
      ],
      "source": [
        "data = [\n",
        "    {\n",
        "        'Title': '1.jailer, 2.kgf 3.jawan',\n",
        "        'Genre': 'action',\n",
        "        'Description': 'Action-packed thriller'\n",
        "    },\n",
        "    {\n",
        "        'Title': '1.pk 2. 3idiots 3.chennai express',\n",
        "        'Genre': 'comedy',\n",
        "        'Description': 'Hilarious comedy'\n",
        "    },\n",
        "    {\n",
        "        'Title': '1.robot 2.ra-one 3. robot 2.0',\n",
        "        'Genre': 'sci-fi',\n",
        "        'Description': 'Exciting action movie'\n",
        "    },\n",
        "    {\n",
        "        'Title': '1.rustom 2.jai bhim 3.chichhore',\n",
        "        'Genre': 'drama',\n",
        "        'Description': 'Heartfelt drama'\n",
        "    }\n",
        "]\n",
        "\n",
        "\n",
        "def cosine_similarity(str1, str2):\n",
        "\n",
        "    words1 = str1.split()\n",
        "    words2 = str2.split()\n",
        "\n",
        "\n",
        "    word_set = set(words1).union(set(words2))\n",
        "\n",
        "\n",
        "    dot_product = sum([words1.count(word) * words2.count(word) for word in word_set])\n",
        "    magnitude1 = sum([words1.count(word) ** 2 for word in word_set]) ** 0.5\n",
        "    magnitude2 = sum([words2.count(word) ** 2 for word in word_set]) ** 0.5\n",
        "\n",
        "\n",
        "    if magnitude1 == 0 or magnitude2 == 0:\n",
        "        return 0\n",
        "    else:\n",
        "        return dot_product / (magnitude1 * magnitude2)\n",
        "\n",
        "\n",
        "user_preference = input(\"Enter your preference (e.g., action, comedy, drama, sci-fi): \")\n",
        "\n",
        "\n",
        "similarities = []\n",
        "for item in data:\n",
        "    if item['Genre'] == user_preference:\n",
        "        similarity_score = cosine_similarity(item['Description'], user_preference)\n",
        "        similarities.append((item['Title'], similarity_score))\n",
        "\n",
        "\n",
        "similarities.sort(key=lambda x: x[1], reverse=True)\n",
        "\n",
        "\n",
        "top_recommendations = similarities[0:3] if len(similarities) >= 3 else similarities\n",
        "\n",
        "\n",
        "if not top_recommendations:\n",
        "    print(\"No recommendations found for your preference.\")\n",
        "else:\n",
        "    print(\"Top 3 recommendations:\")\n",
        "    for title, similarity in top_recommendations:\n",
        "        print(title)"
      ]
    }
  ]
}